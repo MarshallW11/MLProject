plt.scatter(y_test_sums, y_pred_sums)
plt.xlabel("Actual")
plt.ylabel("Predicted")
jls_extract_var = plt.plot([y_test_sums.min(), y_test_sums.max()], [y_test_sums.min(), y_test_sums.max()], 'r--')
jls_extract_var
plt.legend()
plt.show()
